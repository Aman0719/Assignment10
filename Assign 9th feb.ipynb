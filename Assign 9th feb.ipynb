{
 "cells": [
  {
   "cell_type": "code",
   "execution_count": 2,
   "id": "12dbbc04-d7c9-4894-bdbf-ffe46504ff88",
   "metadata": {},
   "outputs": [],
   "source": [
    "#Q1.Create a vehicle class with an init method having instance variables as name_of_vehicle, max_speed and average_of_vehicle.\n",
    "\n",
    "#Ans-\n",
    "\n",
    "class Vehicle:\n",
    "    def __init__(self, name_of_vehicle, max_speed, average_speed):\n",
    "        self.name_of_vehicle = name_of_vehicle\n",
    "        self.max_speed = max_speed\n",
    "        self.average_speed = average_speed\n"
   ]
  },
  {
   "cell_type": "code",
   "execution_count": 6,
   "id": "58fd31c0-0ac4-456e-95f5-f98631c2815f",
   "metadata": {},
   "outputs": [
    {
     "name": "stdout",
     "output_type": "stream",
     "text": [
      "Tesla Model S has a seating capacity of 5 passengers.\n"
     ]
    }
   ],
   "source": [
    "#Q2. Create a child class car from the vehicle class created in Que 1, which will inherit the vehicle class. Create a method named seating_capacity which takes capacity as an argument and returns the name of the vehicle and its seating capacity.\n",
    "\n",
    "#Ans-\n",
    "\n",
    "class Car(Vehicle):\n",
    "    def seating_capacity(self, capacity):\n",
    "        return f\"{self.name_of_vehicle} has a seating capacity of {capacity} passengers.\"\n",
    "        \n",
    "car = Car(\"Tesla Model S\", 155, 65)\n",
    "print(car.seating_capacity(5))"
   ]
  },
  {
   "cell_type": "code",
   "execution_count": null,
   "id": "5f9fda76-0d31-4cfc-8568-2fa23c9571dc",
   "metadata": {},
   "outputs": [],
   "source": [
    "#Q3. What is multiple inheritance? Write a python code to demonstrate multiple inheritance.\n",
    "\n",
    "#Ans-\n",
    "\n",
    "Multiple inheritance is a feature of object-oriented programming languages that allows a class to inherit from multiple parent classes. \n",
    "This means that the child class can have access to the attributes and methods of all of its parent classes.\n",
    "\n",
    "Here's an example implementation of multiple inheritance in Python:"
   ]
  },
  {
   "cell_type": "code",
   "execution_count": null,
   "id": "3c00e2d1-1116-46fb-9c87-4b2a0652042f",
   "metadata": {},
   "outputs": [],
   "source": [
    "class A:\n",
    "    def method_a(self):\n",
    "        print(\"Method A from class A\")\n",
    "\n",
    "class B:\n",
    "    def method_b(self):\n",
    "        print(\"Method B from class B\")\n",
    "\n",
    "class C(A, B):\n",
    "    def method_c(self):\n",
    "        print(\"Method C from class C\")\n",
    "\n",
    "obj_c = C()\n",
    "obj_c.method_a() # Output: \"Method A from class A\"\n",
    "obj_c.method_b() # Output: \"Method B from class B\"\n",
    "obj_c.method_c() # Output: \"Method C from class C\"\n"
   ]
  },
  {
   "cell_type": "code",
   "execution_count": null,
   "id": "e8d54a8e-bbe5-4f1b-96a0-d7754582ad12",
   "metadata": {},
   "outputs": [],
   "source": [
    "In this example, we define three classes: A, B, and C. \n",
    "The A and B classes each have one method, method_a and method_b, respectively. \n",
    "The C class inherits from both A and B, and defines its own method called method_c.\n",
    "\n",
    "We then create an object of the C class called obj_c, and we can call each of the inherited methods as well as the method defined in the C class."
   ]
  },
  {
   "cell_type": "code",
   "execution_count": null,
   "id": "53d5fff6-c4a4-4e30-a0cc-7ffef833b08f",
   "metadata": {},
   "outputs": [],
   "source": [
    "#Q4. What are getter and setter in python? Create a class and create a getter and a setter method in this class.\n",
    "\n",
    "#Ans-\n",
    "In Python, getters and setters are used to control the access and modification of object attributes. \n",
    "Getters are methods that are used to retrieve the value of an attribute, while setters are used to set the value of an attribute.\n",
    "\n",
    "Here's an example of a class with a getter and a setter method for an attribute called name:"
   ]
  },
  {
   "cell_type": "code",
   "execution_count": null,
   "id": "e3ae7450-822d-48ba-a065-974dcb0c4009",
   "metadata": {},
   "outputs": [],
   "source": [
    "class Person:\n",
    "    def __init__(self, name):\n",
    "        self._name = name\n",
    "    \n",
    "    # Getter method for the name attribute\n",
    "    @property\n",
    "    def name(self):\n",
    "        return self._name\n",
    "    \n",
    "    # Setter method for the name attribute\n",
    "    @name.setter\n",
    "    def name(self, value):\n",
    "        if not isinstance(value, str):\n",
    "            raise TypeError(\"Name must be a string\")\n",
    "        self._name = value\n"
   ]
  },
  {
   "cell_type": "code",
   "execution_count": null,
   "id": "50914f2d-3405-4204-98e3-4ceccd803097",
   "metadata": {},
   "outputs": [],
   "source": [
    "In this example, the Person class has an attribute called name, which is initialized in the constructor. \n",
    "The @property decorator is used to define a getter method for the name attribute, and the @name.setter decorator is used to define a setter method.\n",
    "\n",
    "The getter method simply returns the value of the _name attribute, while the setter method first checks that the new value is a string, and then sets the _name attribute to the new value.\n",
    "\n",
    "Here's an example of how to use the getter and setter methods:"
   ]
  },
  {
   "cell_type": "code",
   "execution_count": null,
   "id": "f092bd10-d3da-498b-a976-16ca1c4c31ed",
   "metadata": {},
   "outputs": [],
   "source": [
    "person = Person(\"Aman\")\n",
    "print(person.name)  # Output: Aman\n",
    "\n",
    "person.name = \"Sudh\"\n",
    "print(person.name)  # Output: Sudh\n",
    "\n",
    "person.name = 123  # Raises TypeError\n"
   ]
  },
  {
   "cell_type": "code",
   "execution_count": null,
   "id": "e187b817-7020-48de-bb24-79b0d8402ebe",
   "metadata": {},
   "outputs": [],
   "source": [
    "#Q5.What is method overriding in python? Write a python code to demonstrate method overriding.\n",
    "#Ans-\n",
    "\n",
    "Method overriding is a feature in object-oriented programming where a subclass provides a new implementation for a method that is already defined in its superclass. \n",
    "The new implementation in the subclass overrides the implementation in the superclass.\n",
    "\n",
    "Here's an example Python code to demonstrate method overriding:"
   ]
  },
  {
   "cell_type": "code",
   "execution_count": null,
   "id": "d7315862-ea98-4eb3-bd52-e77880a52dfc",
   "metadata": {},
   "outputs": [],
   "source": [
    "class Animal:\n",
    "    def make_sound(self):\n",
    "        print(\"The animal makes a sound.\")\n",
    "\n",
    "class Cat(Animal):\n",
    "    def make_sound(self):\n",
    "        print(\"Meow!\")\n",
    "\n",
    "class Dog(Animal):\n",
    "    def make_sound(self):\n",
    "        print(\"Woof!\")\n",
    "\n",
    "# Create objects of the Animal, Cat, and Dog classes\n",
    "animal = Animal()\n",
    "cat = Cat()\n",
    "dog = Dog()\n",
    "\n",
    "# Call the make_sound method on each object\n",
    "animal.make_sound()  # prints \"The animal makes a sound.\"\n",
    "cat.make_sound()     # prints \"Meow!\"\n",
    "dog.make_sound()     # prints \"Woof!\"\n"
   ]
  },
  {
   "cell_type": "code",
   "execution_count": null,
   "id": "5f8b6f42-91a8-493b-b9d9-68273aa6453f",
   "metadata": {},
   "outputs": [],
   "source": [
    "In this example, we define an Animal class with a make_sound method that prints \"The animal makes a sound.\" \n",
    "We then define two subclasses of Animal, Cat and Dog, and override the make_sound method with new implementations that print \"Meow!\" and \"Woof!\", respectively.\n",
    "\n",
    "When we create objects of the Animal, Cat, and Dog classes and call the make_sound method on each object, we can see that the implementation of the method is different for each object depending on the class it belongs to. \n",
    "This is because the implementation of the make_sound method is overridden in the subclasses."
   ]
  }
 ],
 "metadata": {
  "kernelspec": {
   "display_name": "Python 3 (ipykernel)",
   "language": "python",
   "name": "python3"
  },
  "language_info": {
   "codemirror_mode": {
    "name": "ipython",
    "version": 3
   },
   "file_extension": ".py",
   "mimetype": "text/x-python",
   "name": "python",
   "nbconvert_exporter": "python",
   "pygments_lexer": "ipython3",
   "version": "3.10.8"
  }
 },
 "nbformat": 4,
 "nbformat_minor": 5
}
